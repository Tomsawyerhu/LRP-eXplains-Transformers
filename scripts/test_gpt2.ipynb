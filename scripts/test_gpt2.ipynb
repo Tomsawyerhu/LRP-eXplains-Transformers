{
 "cells": [
  {
   "cell_type": "code",
   "id": "initial_id",
   "metadata": {
    "collapsed": true,
    "ExecuteTime": {
     "end_time": "2024-07-23T06:51:06.095977Z",
     "start_time": "2024-07-23T06:49:59.416179Z"
    }
   },
   "source": [
    "import torch\n",
    "from lxt.models.gpt2 import GPT2LMHeadModel as CustomGPT, attnlrp \n",
    "from transformers import  GPT2Config\n",
    "from transformers import AutoTokenizer\n",
    "import matplotlib.pyplot as plt\n",
    "\n",
    "def append_backward_hooks_to_mlp(m):\n",
    "\n",
    "    rel_layer = {}\n",
    "    def generate_hook(layer_name):\n",
    "        def backward_hook(module, input_grad, output_grad):\n",
    "            # cloning the relevance makes sure, it is not modified through memory-optimized LXT inplace operations if used\n",
    "            rel_layer[layer_name] = output_grad[0].clone()\n",
    "        return backward_hook\n",
    "\n",
    "    # append hook to last activation of mlp layer\n",
    "    for name, layer in m.named_modules():\n",
    "        if name.endswith(\"mlp\"):\n",
    "            layer.register_full_backward_hook(generate_hook(name))\n",
    "            \n",
    "\n",
    "    return rel_layer\n",
    "\n",
    "# An even smaller LLaMA to use as an example\n",
    "model_id = \"/Users/tom/Downloads/gpt2\"\n",
    "# model_id = \"/Users/tom/Downloads/mini-llama\"\n",
    "prompt = \"\"\"Context: Mount Everest attracts many climbers, including highly experienced mountaineers. There are two main climbing routes, one approaching the summit from the southeast in Nepal (known as the standard route) and the other from the north in Tibet. While not posing substantial technical climbing challenges on the standard route, Everest presents dangers such as altitude sickness, weather, and wind, as well as hazards from avalanches and the Khumbu Icefall. As of November 2022, 310 people have died on Everest. Over 200 bodies remain on the mountain and have not been removed due to the dangerous conditions. The first recorded efforts to reach Everest's summit were made by British mountaineers. As Nepal did not allow foreigners to enter the country at the time, the British made several attempts on the north ridge route from the Tibetan side. After the first reconnaissance expedition by the British in 1921 reached 7,000 m (22,970 ft) on the North Col, the 1922 expedition pushed the north ridge route up to 8,320 m (27,300 ft), marking the first time a human had climbed above 8,000 m (26,247 ft). The 1924 expedition resulted in one of the greatest mysteries on Everest to this day: George Mallory and Andrew Irvine made a final summit attempt on 8 June but never returned, sparking debate as to whether they were the first to reach the top. Tenzing Norgay and Edmund Hillary made the first documented ascent of Everest in 1953, using the southeast ridge route. Norgay had reached 8,595 m (28,199 ft) the previous year as a member of the 1952 Swiss expedition. The Chinese mountaineering team of Wang Fuzhou, Gonpo, and Qu Yinhua made the first reported ascent of the peak from the north ridge on 25 May 1960. \\\n",
    "Question: How high did they climb in 1922? According to the text, the 1922 expedition reached 8,\"\"\"\n",
    "print(prompt)\n",
    "\n",
    "# Setup model and tokenizer\n",
    "config=GPT2Config.from_pretrained(model_id,local_files_only=True)\n",
    "model=CustomGPT.from_pretrained(model_id,local_files_only=True,config=config)\n",
    "tokenizer = AutoTokenizer.from_pretrained(model_id,local_files_only=True)\n",
    "attnlrp.register(model)\n",
    "layers=append_backward_hooks_to_mlp(model)\n",
    "\n",
    "token_id=-1\n",
    "max_length=512\n",
    "input_ids = tokenizer(prompt, return_tensors=\"pt\", add_special_tokens=True).input_ids.to(model.device)\n",
    "prompt_length = input_ids.shape[1]\n",
    "relevances = []\n",
    "\n",
    "while token_id != tokenizer.eos_token_id and input_ids.shape[1] < max_length:\n",
    "    \n",
    "    input_embeds = model.get_input_embeddings()(input_ids)\n",
    "    output_logits = model(inputs_embeds=input_embeds.requires_grad_(), use_cache=False).logits\n",
    "    max_logits, max_indices = torch.max(output_logits[0, -1, :], dim=-1)\n",
    "    # output token id\n",
    "    token_id = max_indices.item()\n",
    "    # output token\n",
    "    output_token=tokenizer.decode(token_id)\n",
    "    print(output_token, end=\" \")\n",
    "    # update input\n",
    "    input_ids = torch.cat([input_ids, torch.tensor([token_id]).unsqueeze(0)], dim=1)\n",
    "    # Get LXT relevance\n",
    "    max_logits.backward(max_logits)\n",
    "    relevance = input_embeds.grad.float().sum(-1).cpu()[0]\n",
    "    relevance = relevance / relevance.abs().max()\n",
    "    relevances.append(relevance)\n",
    "    # print(layers)\n",
    "    \n",
    "total_length = input_ids.shape[1]\n",
    "output_length = total_length - prompt_length\n",
    "assert output_length == len(relevances)\n",
    "\n",
    "source_relevance = [x[:prompt_length] for x in relevances]\n",
    "source_relevance_mean = torch.mean(torch.stack(source_relevance), dim=0)\n",
    "\n",
    "\n",
    "# print(source_relevance_mean)\n",
    "# source_relevance_abs=torch.abs(source_relevance_mean)\n",
    "source_relevance_normalized=(source_relevance_mean - source_relevance_mean.min()) / (source_relevance_mean.max() - source_relevance_mean.min())\n",
    "# source_relevance_normalized-=source_relevance_normalized.min()\n",
    "zero_indices = torch.nonzero(source_relevance_normalized == 0).squeeze()\n",
    "input_tokens=tokenizer.convert_ids_to_tokens(input_ids[0,:].tolist())\n",
    "\n",
    "_,bottom_k=torch.topk(-source_relevance_normalized, k=100)\n",
    "_,top_k=torch.topk(source_relevance_normalized, k=100)\n",
    "print(\"\\n--------------bottom k----------------\\n\")\n",
    "for i in bottom_k:\n",
    "    print(input_tokens[i],end=\" \")\n",
    "print(\"\\n--------------top k----------------\\n\")\n",
    "for i in top_k:\n",
    "    print(input_tokens[i],end=\" \")\n",
    "\n",
    "# 定义一个颜色映射，这里使用绿色\n",
    "green_cmap = plt.cm.get_cmap('Greens')\n",
    "fig, ax = plt.subplots()\n",
    "\n",
    "# Bar plot\n",
    "ax.bar(range(len(source_relevance_normalized)), source_relevance_normalized, color=green_cmap(source_relevance_normalized))\n",
    "\n",
    "# ScalarMappable for the colorbar\n",
    "sm = plt.cm.ScalarMappable(cmap=green_cmap, norm=plt.Normalize(vmin=source_relevance_normalized.min(), vmax=source_relevance_normalized.max()))\n",
    "sm.set_array([])\n",
    "\n",
    "# Add colorbar to the figure\n",
    "cbar = fig.colorbar(sm, ax=ax)\n",
    "\n"
   ],
   "outputs": [
    {
     "name": "stdout",
     "output_type": "stream",
     "text": [
      "Context: Mount Everest attracts many climbers, including highly experienced mountaineers. There are two main climbing routes, one approaching the summit from the southeast in Nepal (known as the standard route) and the other from the north in Tibet. While not posing substantial technical climbing challenges on the standard route, Everest presents dangers such as altitude sickness, weather, and wind, as well as hazards from avalanches and the Khumbu Icefall. As of November 2022, 310 people have died on Everest. Over 200 bodies remain on the mountain and have not been removed due to the dangerous conditions. The first recorded efforts to reach Everest's summit were made by British mountaineers. As Nepal did not allow foreigners to enter the country at the time, the British made several attempts on the north ridge route from the Tibetan side. After the first reconnaissance expedition by the British in 1921 reached 7,000 m (22,970 ft) on the North Col, the 1922 expedition pushed the north ridge route up to 8,320 m (27,300 ft), marking the first time a human had climbed above 8,000 m (26,247 ft). The 1924 expedition resulted in one of the greatest mysteries on Everest to this day: George Mallory and Andrew Irvine made a final summit attempt on 8 June but never returned, sparking debate as to whether they were the first to reach the top. Tenzing Norgay and Edmund Hillary made the first documented ascent of Everest in 1953, using the southeast ridge route. Norgay had reached 8,595 m (28,199 ft) the previous year as a member of the 1952 Swiss expedition. The Chinese mountaineering team of Wang Fuzhou, Gonpo, and Qu Yinhua made the first reported ascent of the peak from the north ridge on 25 May 1960. Question: How high did they climb in 1922? According to the text, the 1922 expedition reached 8,\n",
      "595  m  ( 28 , 199  ft )  on  the  North  Col  in  the  first  day  of  the  expedition .  The  first  attempt  was  made  on  the  North  Col  in  the  early  morning  of  25  May  1960 .  The  second  attempt  was  made  on  the  North  Col  in  the  early  afternoon  of  25  May  1960 .  The  third  attempt  was  made  on  the  North  Col  in  the  early  evening  of  25  May  1960 .  The  fourth  attempt  was  made  on  the  North  Col  in  the  early  morning  of  25  May  1960 .  The  fifth  attempt  was  made  on  the  North  Col  in  the  early  afternoon  of  25  May  1960 .  The  sixth  attempt  was  made  on  the  North  Col  in  the  early  afternoon  of  25  May  1960 . \n",
      "--------------bottom k----------------\n",
      "\n",
      "ĠMall ĠWang ĠHow Ġ25 Ġas : Ġreported Ġclimb ĠAccording ĠNorth Ġefforts Ġrecorded ĠOver : Ġpushed Ġ1921 ĠAs Ġdue ĠWhile Ġfrom Context Ġprevious ĠJune Ġmade ĠGon Ġattempt Ġabove Ġup Ġsoutheast Ġattempts Ġresulted Ġyear ĠAs Ġm Ġwind Ġside , Ġmany ĠGeorge Ġpeople Ġincluding Ġfirst Ġare Ġattracts Ġmarking Ġusing Ġmade Ġdid : ĠSwiss Ġbut Ġhave Ġat Ġpresents ĠIrvine Ġmade Ġapproaching ĠThe Ġby , Ġm Ġhave Ġweather , Ġroute Ġand Ġfrom Ġfrom , Ġhad Ġfrom Ġdangers , ) Ġascent Ġand Ġas Ġ8 Ġnorth Ġclimbed , Ġof Ġand , Ġnot Ġsummit Ġas , Ġforeigners Ġdocumented Ġm Ġone Ġnot Ġmain u Ġm Ġon Ġthe ) Ġby \n",
      "--------------top k----------------\n",
      "\n",
      "Ġ( Ġ1922 Ġ1922 Ġ( ĠCol ĠQuestion Ġ( Ġ( 595 Ġreached Ġ1922 Ġ8 , 300 Ġ1960 Ġexpedition Ġteam ĠEverest ĠKh ĠMay Ġreconnaissance Ġ1924 , Ġmysteries ĠEverest 199 . 000 ĠTibet ĠN Ġ1952 970 28 ĠEverest Ġ( 22 ĠTibetan ĠEverest Ġnorth , ĠBritish , , ĠQu , Ġ8 ĠChinese ). ĠNovember Ġstandard . 247 ĠEverest Ġin ĠEverest . Ġreached Ġaval Ġhuman Ġbodies Ġexpedition ĠEdmund ĠBritish , , ? Ġexpedition Ġridge Ġmount . Ġreturned ĠMount Ġdied . Ġdebate Ġ8 ĠN ĠAndrew 27 Ġ7 000 Ġreached Ġridge ĠHillary ĠThe Ġday Ġpeak known Ġexpedition 320 ĠThe Ġexpedition Ġroutes . Ġnever Ġmade Ġ1953 Ġhigh ĠNepal Ġthe "
     ]
    },
    {
     "name": "stderr",
     "output_type": "stream",
     "text": [
      "/var/folders/m0/bq55cd_d4ks7fz_vnjvd5ykm0000gp/T/ipykernel_89360/2644474295.py:88: MatplotlibDeprecationWarning: The get_cmap function was deprecated in Matplotlib 3.7 and will be removed in 3.11. Use ``matplotlib.colormaps[name]`` or ``matplotlib.colormaps.get_cmap()`` or ``pyplot.get_cmap()`` instead.\n",
      "  green_cmap = plt.cm.get_cmap('Greens')\n"
     ]
    },
    {
     "data": {
      "text/plain": [
       "<Figure size 640x480 with 2 Axes>"
      ],
      "image/png": "[encoded data removed]"
     },
     "metadata": {},
     "output_type": "display_data"
    }
   ],
   "execution_count": 2
  }
 ],
 "metadata": {
  "kernelspec": {
   "display_name": "Python 3",
   "language": "python",
   "name": "python3"
  },
  "language_info": {
   "codemirror_mode": {
    "name": "ipython",
    "version": 2
   },
   "file_extension": ".py",
   "mimetype": "text/x-python",
   "name": "python",
   "nbconvert_exporter": "python",
   "pygments_lexer": "ipython2",
   "version": "2.7.6"
  }
 },
 "nbformat": 4,
 "nbformat_minor": 5
}
